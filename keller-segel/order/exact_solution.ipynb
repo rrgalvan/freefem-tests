{
 "cells": [
  {
   "cell_type": "markdown",
   "metadata": {},
   "source": [
    "# Solución exacta para el sistema clásico de Keller-Segel\n",
    "\n",
    "### Datos:\n",
    "\n",
    "* Dominio: $\\Omega=[0,\\pi]^2$\n",
    "* Coeficientes: todos iguales a uno"
   ]
  },
  {
   "cell_type": "code",
   "execution_count": 1,
   "metadata": {},
   "outputs": [],
   "source": [
    "from sympy import *\n",
    "init_printing()"
   ]
  },
  {
   "cell_type": "code",
   "execution_count": 2,
   "metadata": {},
   "outputs": [],
   "source": [
    "x,y,t = symbols(\"x,y,t\")"
   ]
  },
  {
   "cell_type": "markdown",
   "metadata": {},
   "source": [
    "### U exacta:"
   ]
  },
  {
   "cell_type": "code",
   "execution_count": 3,
   "metadata": {},
   "outputs": [
    {
     "data": {
      "image/png": "[encoded data removed]",
      "text/latex": [
       "$$2 + e^{- 2 t} \\cos{\\left (x \\right )} \\cos{\\left (y \\right )}$$"
      ],
      "text/plain": [
       "     -2⋅t              \n",
       "2 + ℯ    ⋅cos(x)⋅cos(y)"
      ]
     },
     "execution_count": 3,
     "metadata": {},
     "output_type": "execute_result"
    }
   ],
   "source": [
    "u=exp(-2*t)*cos(x)*cos(y) + 2\n",
    "v=u\n",
    "u"
   ]
  },
  {
   "cell_type": "markdown",
   "metadata": {},
   "source": [
    "### Gradiente de u"
   ]
  },
  {
   "cell_type": "code",
   "execution_count": 4,
   "metadata": {},
   "outputs": [
    {
     "data": {
      "image/png": "[encoded data removed]",
      "text/latex": [
       "$$\\left ( - e^{- 2 t} \\sin{\\left (x \\right )} \\cos{\\left (y \\right )}, \\quad - e^{- 2 t} \\sin{\\left (y \\right )} \\cos{\\left (x \\right )}\\right )$$"
      ],
      "text/plain": [
       "⎛  -2⋅t                  -2⋅t              ⎞\n",
       "⎝-ℯ    ⋅sin(x)⋅cos(y), -ℯ    ⋅sin(y)⋅cos(x)⎠"
      ]
     },
     "execution_count": 4,
     "metadata": {},
     "output_type": "execute_result"
    }
   ],
   "source": [
    "grad_u = (diff(u,x), diff(u,y))\n",
    "grad_u"
   ]
  },
  {
   "cell_type": "markdown",
   "metadata": {},
   "source": [
    "### Evaluación del gradiente en las distintas partes de la frontera:\n",
    "\n",
    "1. $\\Gamma_1=\\{ (x,0), \\ x\\in (0,\\pi) \\}$\n",
    "1. $\\Gamma_2=\\{ (0,y), \\ y\\in (0,\\pi) \\}$\n",
    "1. $\\Gamma_3=\\{ (x,\\pi), \\ x\\in (0,\\pi) \\}$\n",
    "1. $\\Gamma_4=\\{ (\\pi,y), \\ y\\in (0,\\pi) \\}$"
   ]
  },
  {
   "cell_type": "code",
   "execution_count": 5,
   "metadata": {},
   "outputs": [
    {
     "data": {
      "image/png": "[encoded data removed]",
      "text/latex": [
       "$$0$$"
      ],
      "text/plain": [
       "0"
      ]
     },
     "execution_count": 5,
     "metadata": {},
     "output_type": "execute_result"
    }
   ],
   "source": [
    "### 1\n",
    "\n",
    "n = (0,-1)\n",
    "grad_u_n = grad_u[0].subs(y,0) * n[0]  + grad_u[1].subs(y,0) * n[1]\n",
    "assert(grad_u_n==0)\n",
    "grad_u_n"
   ]
  },
  {
   "cell_type": "code",
   "execution_count": 6,
   "metadata": {},
   "outputs": [
    {
     "data": {
      "image/png": "[encoded data removed]",
      "text/latex": [
       "$$0$$"
      ],
      "text/plain": [
       "0"
      ]
     },
     "execution_count": 6,
     "metadata": {},
     "output_type": "execute_result"
    }
   ],
   "source": [
    "### 2\n",
    "\n",
    "n = (1,0)\n",
    "grad_u_n = grad_u[0].subs(x,pi) * n[0]  + grad_u[1].subs(x,pi) * n[1]\n",
    "assert(grad_u_n==0)\n",
    "grad_u_n"
   ]
  },
  {
   "cell_type": "code",
   "execution_count": 7,
   "metadata": {},
   "outputs": [
    {
     "data": {
      "image/png": "[encoded data removed]",
      "text/latex": [
       "$$0$$"
      ],
      "text/plain": [
       "0"
      ]
     },
     "execution_count": 7,
     "metadata": {},
     "output_type": "execute_result"
    }
   ],
   "source": [
    "### 3\n",
    "\n",
    "n = (0,1)\n",
    "grad_u_n = grad_u[0].subs(y,pi) * n[0]  + grad_u[1].subs(y,pi) * n[1]\n",
    "assert(grad_u_n==0)\n",
    "grad_u_n"
   ]
  },
  {
   "cell_type": "code",
   "execution_count": 8,
   "metadata": {},
   "outputs": [
    {
     "data": {
      "image/png": "[encoded data removed]",
      "text/latex": [
       "$$0$$"
      ],
      "text/plain": [
       "0"
      ]
     },
     "execution_count": 8,
     "metadata": {},
     "output_type": "execute_result"
    }
   ],
   "source": [
    "### 4\n",
    "\n",
    "n = (-1,0)\n",
    "grad_u_n = grad_u[0].subs(x,0) * n[0]  + grad_u[1].subs(x,0) * n[1]\n",
    "assert(grad_u_n==0)\n",
    "grad_u_n"
   ]
  },
  {
   "cell_type": "markdown",
   "metadata": {},
   "source": [
    "### Cálculo de la función segundo miembro, $f$"
   ]
  },
  {
   "cell_type": "code",
   "execution_count": 9,
   "metadata": {},
   "outputs": [],
   "source": [
    "laplace = lambda u: diff(u,x,2) + diff(u,y,2)\n",
    "div = lambda u1, u2: diff(u1,x) + diff(u2,y)\n",
    "chemotaxis = lambda u, v: div( u*diff(v,x), u*diff(v,y) )"
   ]
  },
  {
   "cell_type": "code",
   "execution_count": 10,
   "metadata": {},
   "outputs": [
    {
     "data": {
      "image/png": "[encoded data removed]",
      "text/latex": [
       "$$\\left(- 4 e^{2 t} \\cos{\\left (x \\right )} \\cos{\\left (y \\right )} - 4 \\cos^{2}{\\left (x \\right )} \\cos^{2}{\\left (y \\right )} + \\cos^{2}{\\left (x \\right )} + \\cos^{2}{\\left (y \\right )}\\right) e^{- 4 t}$$"
      ],
      "text/plain": [
       "⎛     2⋅t                      2       2         2         2   ⎞  -4⋅t\n",
       "⎝- 4⋅ℯ   ⋅cos(x)⋅cos(y) - 4⋅cos (x)⋅cos (y) + cos (x) + cos (y)⎠⋅ℯ    "
      ]
     },
     "execution_count": 10,
     "metadata": {},
     "output_type": "execute_result"
    }
   ],
   "source": [
    "f = diff(u,t) - laplace(u) + chemotaxis(u,v)\n",
    "f = simplify(f)\n",
    "f"
   ]
  },
  {
   "cell_type": "code",
   "execution_count": 11,
   "metadata": {},
   "outputs": [
    {
     "data": {
      "image/png": "[encoded data removed]",
      "text/latex": [
       "$$0$$"
      ],
      "text/plain": [
       "0"
      ]
     },
     "execution_count": 11,
     "metadata": {},
     "output_type": "execute_result"
    }
   ],
   "source": [
    "eq_u = diff(u,t) - laplace(u) + chemotaxis(u,v) - f\n",
    "eq_u = simplify(eq_u) \n",
    "assert( eq_u == 0 )\n",
    "eq_u"
   ]
  },
  {
   "cell_type": "code",
   "execution_count": 12,
   "metadata": {},
   "outputs": [
    {
     "data": {
      "image/png": "[encoded data removed]",
      "text/latex": [
       "$$0$$"
      ],
      "text/plain": [
       "0"
      ]
     },
     "execution_count": 12,
     "metadata": {},
     "output_type": "execute_result"
    }
   ],
   "source": [
    "eq_v = diff(v,t) - laplace(v) + v - u\n",
    "assert( eq_v == 0 )\n",
    "eq_v"
   ]
  },
  {
   "cell_type": "code",
   "execution_count": null,
   "metadata": {},
   "outputs": [],
   "source": []
  }
 ],
 "metadata": {
  "@webio": {
   "lastCommId": null,
   "lastKernelId": null
  },
  "kernelspec": {
   "display_name": "Python 3",
   "language": "python",
   "name": "python3"
  },
  "language_info": {
   "codemirror_mode": {
    "name": "ipython",
    "version": 3
   },
   "file_extension": ".py",
   "mimetype": "text/x-python",
   "name": "python",
   "nbconvert_exporter": "python",
   "pygments_lexer": "ipython3",
   "version": "3.6.8"
  }
 },
 "nbformat": 4,
 "nbformat_minor": 2
}
